{
 "cells": [
  {
   "cell_type": "markdown",
   "metadata": {
    "application/vnd.databricks.v1+cell": {
     "cellMetadata": {},
     "inputWidgets": {},
     "nuid": "9461db19-8759-446c-99ba-5f4769fcbc21",
     "showTitle": false,
     "title": ""
    }
   },
   "source": [
    "##doing transformation for all tables changing column names."
   ]
  },
  {
   "cell_type": "code",
   "execution_count": 0,
   "metadata": {
    "application/vnd.databricks.v1+cell": {
     "cellMetadata": {
      "byteLimit": 2048000,
      "rowLimit": 10000
     },
     "inputWidgets": {},
     "nuid": "fec09ade-4222-4526-8c9c-9c655dd8076f",
     "showTitle": false,
     "title": ""
    }
   },
   "outputs": [],
   "source": [
    "table_name = []\n",
    "\n",
    "for i in dbutils.fs.ls(\"mnt/silver/SalesLT/\"):\n",
    "    table_name.append(i.name.split('/')[0])\n",
    "#table_name"
   ]
  },
  {
   "cell_type": "code",
   "execution_count": 0,
   "metadata": {
    "application/vnd.databricks.v1+cell": {
     "cellMetadata": {
      "byteLimit": 2048000,
      "rowLimit": 10000
     },
     "inputWidgets": {},
     "nuid": "53f916c4-b76f-4728-9fb4-d5cdd4b7c341",
     "showTitle": false,
     "title": ""
    }
   },
   "outputs": [
    {
     "output_type": "stream",
     "name": "stdout",
     "output_type": "stream",
     "text": [
      "/mnt/silver/SalesLT/Address\n/mnt/silver/SalesLT/Customer\n/mnt/silver/SalesLT/CustomerAddress\n/mnt/silver/SalesLT/Product\n/mnt/silver/SalesLT/ProductCategory\n/mnt/silver/SalesLT/ProductDescription\n/mnt/silver/SalesLT/ProductModel\n/mnt/silver/SalesLT/ProductModelProductDescription\n/mnt/silver/SalesLT/SalesOrderDetail\n/mnt/silver/SalesLT/SalesOrderHeader\n"
     ]
    }
   ],
   "source": [
    "for name in table_name:\n",
    "    path = '/mnt/silver/SalesLT/'+ name\n",
    "    print(path)\n",
    "    df = spark.read.format('delta').load(path)\n",
    "\n",
    "    column_names = df.columns\n",
    "    for old_column_name in column_names:\n",
    "        new_col_name = \"\".join([\"_\"+ char if char.isupper() and not old_column_name[i-1].isupper() else char for i, char in enumerate(old_column_name)]).lstrip(\"_\")\n",
    "        #print(new_col_name)\n",
    "        df = df.withColumnRenamed(old_column_name, new_col_name)\n",
    "\n",
    "    \n",
    "    \n",
    "    output_path = '/mnt/gold/SalesLT/'+ name + '/'\n",
    "    df.write.format('delta').mode('overwrite').save(output_path)"
   ]
  },
  {
   "cell_type": "code",
   "execution_count": 0,
   "metadata": {
    "application/vnd.databricks.v1+cell": {
     "cellMetadata": {},
     "inputWidgets": {},
     "nuid": "3af45367-b3fe-4d09-9b3e-7c3a9badda5e",
     "showTitle": false,
     "title": ""
    }
   },
   "outputs": [],
   "source": []
  }
 ],
 "metadata": {
  "application/vnd.databricks.v1+notebook": {
   "dashboards": [],
   "language": "python",
   "notebookMetadata": {
    "pythonIndentUnit": 4
   },
   "notebookName": "silver to gold_job",
   "widgets": {}
  }
 },
 "nbformat": 4,
 "nbformat_minor": 0
}
